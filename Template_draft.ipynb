{
 "cells": [
  {
   "cell_type": "markdown",
   "id": "4fc63d69",
   "metadata": {},
   "source": [
    "<img align=\"right\" src = https://project.lsst.org/sites/default/files/Rubin-O-Logo_0.png width=250>"
   ]
  },
  {
   "cell_type": "markdown",
   "id": "103110bb",
   "metadata": {},
   "source": [
    "# Title\n",
    "### Type of Notebook: Tutorial for \n",
    "### Document is written for: Beginners, Intermediate, Advanced Users\n",
    "### Date Published: "
   ]
  },
  {
   "cell_type": "markdown",
   "id": "06cd6394",
   "metadata": {},
   "source": [
    "## **Introduction**"
   ]
  },
  {
   "cell_type": "markdown",
   "id": "db596894",
   "metadata": {},
   "source": []
  }
 ],
 "metadata": {
  "kernelspec": {
   "display_name": "LSST",
   "language": "python",
   "name": "lsst"
  },
  "language_info": {
   "codemirror_mode": {
    "name": "ipython",
    "version": 3
   },
   "file_extension": ".py",
   "mimetype": "text/x-python",
   "name": "python",
   "nbconvert_exporter": "python",
   "pygments_lexer": "ipython3",
   "version": "3.8.8"
  }
 },
 "nbformat": 4,
 "nbformat_minor": 5
}
